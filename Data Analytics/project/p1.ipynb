{
 "cells": [
  {
   "cell_type": "markdown",
   "metadata": {},
   "source": [
    "Superstore sales data analysis"
   ]
  },
  {
   "cell_type": "code",
   "execution_count": null,
   "metadata": {},
   "outputs": [],
   "source": [
    "import numpy as np\n",
    "import pandas as pd\n",
    "import matplotlib.pyplot as plt\n",
    "import seaborn as sns"
   ]
  },
  {
   "cell_type": "code",
   "execution_count": 52,
   "metadata": {},
   "outputs": [
    {
     "name": "stdout",
     "output_type": "stream",
     "text": [
      "      Row ID        Order ID  Order Date   Ship Date       Ship Mode   \n",
      "0          1  CA-2017-152156  08/11/2017  11/11/2017    Second Class  \\\n",
      "1          2  CA-2017-152156  08/11/2017  11/11/2017    Second Class   \n",
      "2          3  CA-2017-138688  12/06/2017  16/06/2017    Second Class   \n",
      "3          4  US-2016-108966  11/10/2016  18/10/2016  Standard Class   \n",
      "4          5  US-2016-108966  11/10/2016  18/10/2016  Standard Class   \n",
      "...      ...             ...         ...         ...             ...   \n",
      "9795    9796  CA-2017-125920  21/05/2017  28/05/2017  Standard Class   \n",
      "9796    9797  CA-2016-128608  12/01/2016  17/01/2016  Standard Class   \n",
      "9797    9798  CA-2016-128608  12/01/2016  17/01/2016  Standard Class   \n",
      "9798    9799  CA-2016-128608  12/01/2016  17/01/2016  Standard Class   \n",
      "9799    9800  CA-2016-128608  12/01/2016  17/01/2016  Standard Class   \n",
      "\n",
      "     Customer ID     Customer Name    Segment        Country             City   \n",
      "0       CG-12520       Claire Gute   Consumer  United States        Henderson  \\\n",
      "1       CG-12520       Claire Gute   Consumer  United States        Henderson   \n",
      "2       DV-13045   Darrin Van Huff  Corporate  United States      Los Angeles   \n",
      "3       SO-20335    Sean O'Donnell   Consumer  United States  Fort Lauderdale   \n",
      "4       SO-20335    Sean O'Donnell   Consumer  United States  Fort Lauderdale   \n",
      "...          ...               ...        ...            ...              ...   \n",
      "9795    SH-19975     Sally Hughsby  Corporate  United States          Chicago   \n",
      "9796    CS-12490  Cindy Schnelling  Corporate  United States           Toledo   \n",
      "9797    CS-12490  Cindy Schnelling  Corporate  United States           Toledo   \n",
      "9798    CS-12490  Cindy Schnelling  Corporate  United States           Toledo   \n",
      "9799    CS-12490  Cindy Schnelling  Corporate  United States           Toledo   \n",
      "\n",
      "           State  Postal Code   Region       Product ID         Category   \n",
      "0       Kentucky      42420.0    South  FUR-BO-10001798        Furniture  \\\n",
      "1       Kentucky      42420.0    South  FUR-CH-10000454        Furniture   \n",
      "2     California      90036.0     West  OFF-LA-10000240  Office Supplies   \n",
      "3        Florida      33311.0    South  FUR-TA-10000577        Furniture   \n",
      "4        Florida      33311.0    South  OFF-ST-10000760  Office Supplies   \n",
      "...          ...          ...      ...              ...              ...   \n",
      "9795    Illinois      60610.0  Central  OFF-BI-10003429  Office Supplies   \n",
      "9796        Ohio      43615.0     East  OFF-AR-10001374  Office Supplies   \n",
      "9797        Ohio      43615.0     East  TEC-PH-10004977       Technology   \n",
      "9798        Ohio      43615.0     East  TEC-PH-10000912       Technology   \n",
      "9799        Ohio      43615.0     East  TEC-AC-10000487       Technology   \n",
      "\n",
      "     Sub-Category                                       Product Name     Sales  \n",
      "0       Bookcases                  Bush Somerset Collection Bookcase  261.9600  \n",
      "1          Chairs  Hon Deluxe Fabric Upholstered Stacking Chairs,...  731.9400  \n",
      "2          Labels  Self-Adhesive Address Labels for Typewriters b...   14.6200  \n",
      "3          Tables      Bretford CR4500 Series Slim Rectangular Table  957.5775  \n",
      "4         Storage                     Eldon Fold 'N Roll Cart System   22.3680  \n",
      "...           ...                                                ...       ...  \n",
      "9795      Binders  Cardinal HOLDit! Binder Insert Strips,Extra St...    3.7980  \n",
      "9796          Art           BIC Brite Liner Highlighters, Chisel Tip   10.3680  \n",
      "9797       Phones                                        GE 30524EE4  235.1880  \n",
      "9798       Phones           Anker 24W Portable Micro USB Car Charger   26.3760  \n",
      "9799  Accessories                SanDisk Cruzer 4 GB USB Flash Drive   10.3840  \n",
      "\n",
      "[9800 rows x 18 columns]\n"
     ]
    }
   ],
   "source": [
    "data=pd.read_csv('train.csv')\n",
    "print(data)"
   ]
  },
  {
   "cell_type": "code",
   "execution_count": null,
   "metadata": {},
   "outputs": [],
   "source": [
    "# print(data.head(3))\n",
    "# print(data.tail(3))\n",
    "print(data.info())"
   ]
  },
  {
   "cell_type": "code",
   "execution_count": null,
   "metadata": {},
   "outputs": [],
   "source": [
    "#filling null\n",
    "data[\"Postal Code\"].fillna(0,inplace=True)\n",
    "data[\"Postal Code\"]=data[\"Postal Code\"].astype(int)\n",
    "data.info()"
   ]
  },
  {
   "cell_type": "code",
   "execution_count": null,
   "metadata": {},
   "outputs": [],
   "source": [
    "#checking for duplicates\n",
    "dupli=data.duplicated()\n",
    "print(dupli.count)"
   ]
  },
  {
   "cell_type": "code",
   "execution_count": null,
   "metadata": {},
   "outputs": [],
   "source": [
    "#making classification in customer\n",
    "customers=data['Segment'].unique()\n",
    "print(customers)"
   ]
  },
  {
   "cell_type": "code",
   "execution_count": null,
   "metadata": {},
   "outputs": [],
   "source": [
    "no_customer=data['Segment'].value_counts().reset_index()\n",
    "no_customer=no_customer.rename(columns={'Segment':'Type_customer'})\n",
    "print(no_customer)"
   ]
  },
  {
   "cell_type": "code",
   "execution_count": null,
   "metadata": {},
   "outputs": [],
   "source": [
    "plt.pie(no_customer['count'], labels=no_customer['Type_customer'], autopct='%1.1f%%')"
   ]
  },
  {
   "cell_type": "raw",
   "metadata": {},
   "source": [
    "graph and data both shows that the owner should focus on consumers for growth..."
   ]
  },
  {
   "cell_type": "code",
   "execution_count": null,
   "metadata": {},
   "outputs": [],
   "source": [
    "#sales per segment\n",
    "sales_per_segment=data.groupby('Segment')['Sales'].sum().reset_index()\n",
    "sales_per_segment=sales_per_segment.rename(columns={'Segment':'Type_Customer'})\n",
    "plt.bar(sales_per_segment['Type_Customer'],sales_per_segment['Sales'])"
   ]
  },
  {
   "cell_type": "markdown",
   "metadata": {
    "vscode": {
     "languageId": "raw"
    }
   },
   "source": [
    "customer accusation cost in each segment"
   ]
  },
  {
   "cell_type": "code",
   "execution_count": null,
   "metadata": {},
   "outputs": [],
   "source": [
    "#customer accusation cost in each segment\n"
   ]
  }
 ],
 "metadata": {
  "kernelspec": {
   "display_name": "Python 3",
   "language": "python",
   "name": "python3"
  },
  "language_info": {
   "codemirror_mode": {
    "name": "ipython",
    "version": 3
   },
   "file_extension": ".py",
   "mimetype": "text/x-python",
   "name": "python",
   "nbconvert_exporter": "python",
   "pygments_lexer": "ipython3",
   "version": "3.11.3"
  }
 },
 "nbformat": 4,
 "nbformat_minor": 2
}
