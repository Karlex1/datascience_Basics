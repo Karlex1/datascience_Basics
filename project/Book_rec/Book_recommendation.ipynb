{
 "cells": [
  {
   "cell_type": "markdown",
   "metadata": {},
   "source": [
    "Book Recommendation Practice"
   ]
  },
  {
   "cell_type": "code",
   "execution_count": null,
   "metadata": {},
   "outputs": [],
   "source": [
    "#basic Imports\n",
    "import numpy as np\n",
    "import pandas as pd\n",
    "import matplotlib.pyplot as plt\n"
   ]
  },
  {
   "cell_type": "code",
   "execution_count": null,
   "metadata": {},
   "outputs": [],
   "source": [
    "#importing dataset\n",
    "\n",
    "books=pd.read_csv('./Books.csv')\n",
    "user=pd.read_csv('./Users.csv')\n",
    "ratings=pd.read_csv('./Ratings.csv')"
   ]
  },
  {
   "cell_type": "code",
   "execution_count": null,
   "metadata": {},
   "outputs": [],
   "source": [
    "books.head(4)\n",
    "# books.isna().sum()"
   ]
  },
  {
   "cell_type": "code",
   "execution_count": null,
   "metadata": {},
   "outputs": [],
   "source": [
    "user.head(4)\n",
    "# user.isna().sum()"
   ]
  },
  {
   "cell_type": "code",
   "execution_count": null,
   "metadata": {},
   "outputs": [],
   "source": [
    "ratings.head(4)\n",
    "# ratings.isna().sum()"
   ]
  },
  {
   "cell_type": "code",
   "execution_count": null,
   "metadata": {},
   "outputs": [],
   "source": [
    "# merge book in rating with ISBN\n",
    "ratings_with_name = ratings.merge(books, on='ISBN')\n",
    "ratings_with_name.head()"
   ]
  },
  {
   "cell_type": "code",
   "execution_count": null,
   "metadata": {},
   "outputs": [],
   "source": [
    "# counting rating for user-id and >50\n",
    "user_rating_count=ratings_with_name.groupby('User-ID').count()['Book-Rating']\n",
    "active_users=user_rating_count[user_rating_count>50].index\n",
    "# filtering rating for active user(>50)\n",
    "filtered_ratings=ratings_with_name[ratings_with_name['User-ID'].isin(active_users)]\n",
    "#combining rating for Book-Title and popular if>=10\n",
    "book_ratings_count=filtered_ratings.groupby('Book-Title').count()['Book-Rating']\n",
    "popular_books=book_ratings_count[book_ratings_count>=10].index\n",
    "# filtering filtered_rating  for Book-Title\n",
    "final_rating=filtered_ratings[filtered_ratings['Book-Title'].isin(popular_books)]\n",
    "final_rating.head()"
   ]
  },
  {
   "cell_type": "markdown",
   "metadata": {},
   "source": [
    "We need to work with rating book-title and user-id"
   ]
  },
  {
   "cell_type": "code",
   "execution_count": null,
   "metadata": {},
   "outputs": [],
   "source": [
    "new_table=final_rating.pivot_table(index='Book-Title',columns='User-ID',values='Book-Rating')\n",
    "new_table.fillna(0, inplace=True)\n",
    "new_table.head()"
   ]
  },
  {
   "cell_type": "code",
   "execution_count": null,
   "metadata": {},
   "outputs": [],
   "source": [
    "from sklearn.metrics.pairwise import cosine_similarity\n",
    "similarity=cosine_similarity(new_table)"
   ]
  },
  {
   "cell_type": "code",
   "execution_count": null,
   "metadata": {},
   "outputs": [],
   "source": [
    "def recommend_book(book_name):\n",
    "    # get the index for given book\n",
    "    try:\n",
    "        index=np.where(new_table.index==book_name)[0][0]\n",
    "        similar_books=sorted(list(enumerate(similarity[index])),key=lambda x: x[1], reverse=True)[1:6]\n",
    "        print(f\"Books similar to {book_name}:\")\n",
    "        for i in similar_books:\n",
    "            book_title = new_table.index[i[0]]\n",
    "            print(book_title)\n",
    "    except:\n",
    "        print('Book - ',book_name,' Not found in Database')"
   ]
  },
  {
   "cell_type": "code",
   "execution_count": null,
   "metadata": {},
   "outputs": [],
   "source": [
    "recommend_book('Far from the MaddingCrowd')"
   ]
  },
  {
   "cell_type": "markdown",
   "metadata": {},
   "source": [
    "Till now recommending book on the basis of similarity matrix..."
   ]
  },
  {
   "cell_type": "code",
   "execution_count": null,
   "metadata": {},
   "outputs": [],
   "source": [
    "from sklearn.neighbors import NearestNeighbors\n",
    "from scipy.sparse import csr_matrix"
   ]
  },
  {
   "cell_type": "markdown",
   "metadata": {},
   "source": [
    "A sparse matrix is a matrix in which most of the elements are zero. Sparse matrices are used to efficiently store and manipulate large datasets where the majority of elements are zeros."
   ]
  },
  {
   "cell_type": "code",
   "execution_count": null,
   "metadata": {},
   "outputs": [],
   "source": [
    "# converting new_table (pivot table ) into sparse matrice\n",
    "nt_matrix = csr_matrix(new_table.values)\n",
    "print(nt_matrix.toarray())\n",
    "# Convert the pivot table into a sparse matrix\n",
    "model_knn = NearestNeighbors(metric='cosine', algorithm='brute')\n",
    "model_knn.fit(nt_matrix)"
   ]
  },
  {
   "cell_type": "code",
   "execution_count": null,
   "metadata": {},
   "outputs": [],
   "source": [
    "def recommend(book):\n",
    "    try:\n",
    "        query_index = new_table.index.get_loc(book)\n",
    "        distances, indices = model_knn.kneighbors(nt_matrix[query_index], n_neighbors=6)\n",
    "\n",
    "        print(f\"Recommendations for '{new_table.index[query_index]}':\")\n",
    "        for i in range(1, len(distances.flatten())):\n",
    "            print(f\"{i}: {new_table.index[indices.flatten()[i]]}\")\n",
    "\n",
    "    except KeyError:\n",
    "        print(f\"The book '{book}' is not found in the dataset.\")\n",
    "        similar_books = find_similar_books(book)\n",
    "\n",
    "        if similar_books:\n",
    "            print(\"*********************************************\")\n",
    "            print(f\"Did you mean one of these books?\")\n",
    "            for i, similar_book in enumerate(similar_books, start=1):\n",
    "                print(f\"{i}: {similar_book}\")\n",
    "        else:\n",
    "            print(f\"No similar books found. Please try a different book name (Type 'exit' to stop).\")\n",
    "\n",
    "\n",
    "\n",
    "def find_similar_books(book):\n",
    "    similar_books = [b for b in new_table.index if book.lower() in b.lower()]\n",
    "    return similar_books[:10] if similar_books else []\n",
    "\n",
    "\n",
    "while True:\n",
    "    print(\"*********************************************\")\n",
    "    book_name = input(\"Enter the Book Name (Type 'exit' to stop): \")\n",
    "\n",
    "    if book_name.lower() == 'exit':\n",
    "        print(\"Exiting the recommendation system.\")\n",
    "        print(\"*********************************************\")\n",
    "        break\n",
    "\n",
    "    recommend(book_name)\n"
   ]
  }
 ],
 "metadata": {
  "kernelspec": {
   "display_name": "Python 3",
   "language": "python",
   "name": "python3"
  },
  "language_info": {
   "codemirror_mode": {
    "name": "ipython",
    "version": 3
   },
   "file_extension": ".py",
   "mimetype": "text/x-python",
   "name": "python",
   "nbconvert_exporter": "python",
   "pygments_lexer": "ipython3",
   "version": "3.11.3"
  }
 },
 "nbformat": 4,
 "nbformat_minor": 2
}
